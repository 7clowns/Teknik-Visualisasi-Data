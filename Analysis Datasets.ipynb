{
 "cells": [
  {
   "cell_type": "markdown",
   "id": "4d6d7a5efcc87b41",
   "metadata": {
    "collapsed": false
   },
   "source": [
    "# UAS Teknik Visualisasi Data"
   ]
  },
  {
   "cell_type": "markdown",
   "id": "7d9000e451ada6f0",
   "metadata": {
    "collapsed": false
   },
   "source": [
    "## Import Module"
   ]
  },
  {
   "cell_type": "code",
   "execution_count": 3,
   "id": "7e1eecaa1ef2343a",
   "metadata": {
    "ExecuteTime": {
     "end_time": "2024-01-26T17:11:27.141532276Z",
     "start_time": "2024-01-26T17:11:25.613658106Z"
    },
    "collapsed": false
   },
   "outputs": [],
   "source": [
    "import pandas as pd\n",
    "import numpy as np\n",
    "import matplotlib.pyplot as plt\n",
    "import seaborn as sns\n",
    "from scipy.stats import pearsonr, mode\n",
    "from scipy.stats import skew\n",
    "from scipy.stats import scoreatpercentile\n",
    "from scipy.stats import zscore\n",
    "from sklearn.decomposition import PCA\n",
    "from sklearn.preprocessing import StandardScaler"
   ]
  },
  {
   "cell_type": "markdown",
   "id": "851b0afbbffb4ab4",
   "metadata": {
    "collapsed": false
   },
   "source": [
    "## Read Data From CSV File"
   ]
  },
  {
   "cell_type": "code",
   "execution_count": 4,
   "id": "61bc74fef6023e97",
   "metadata": {
    "ExecuteTime": {
     "end_time": "2024-01-26T17:05:25.674033227Z",
     "start_time": "2024-01-26T17:05:25.657776749Z"
    },
    "collapsed": false
   },
   "outputs": [],
   "source": [
    "df = pd.read_csv('Sample - Superstore.csv')"
   ]
  },
  {
   "cell_type": "markdown",
   "id": "456c155bb3cc0af",
   "metadata": {
    "collapsed": false
   },
   "source": [
    "## Read The First 5 Data"
   ]
  },
  {
   "cell_type": "code",
   "execution_count": 5,
   "id": "35b853cf72142000",
   "metadata": {
    "ExecuteTime": {
     "end_time": "2024-01-26T17:05:27.410883543Z",
     "start_time": "2024-01-26T17:05:27.368759126Z"
    },
    "collapsed": false
   },
   "outputs": [
    {
     "data": {
      "text/html": [
       "<div>\n",
       "<style scoped>\n",
       "    .dataframe tbody tr th:only-of-type {\n",
       "        vertical-align: middle;\n",
       "    }\n",
       "\n",
       "    .dataframe tbody tr th {\n",
       "        vertical-align: top;\n",
       "    }\n",
       "\n",
       "    .dataframe thead th {\n",
       "        text-align: right;\n",
       "    }\n",
       "</style>\n",
       "<table border=\"1\" class=\"dataframe\">\n",
       "  <thead>\n",
       "    <tr style=\"text-align: right;\">\n",
       "      <th></th>\n",
       "      <th>Row ID</th>\n",
       "      <th>Order ID</th>\n",
       "      <th>Order Date</th>\n",
       "      <th>Ship Date</th>\n",
       "      <th>Ship Mode</th>\n",
       "      <th>Customer ID</th>\n",
       "      <th>Customer Name</th>\n",
       "      <th>Segment</th>\n",
       "      <th>Country</th>\n",
       "      <th>City</th>\n",
       "      <th>...</th>\n",
       "      <th>Postal Code</th>\n",
       "      <th>Region</th>\n",
       "      <th>Product ID</th>\n",
       "      <th>Category</th>\n",
       "      <th>Sub-Category</th>\n",
       "      <th>Product Name</th>\n",
       "      <th>Sales</th>\n",
       "      <th>Quantity</th>\n",
       "      <th>Discount</th>\n",
       "      <th>Profit</th>\n",
       "    </tr>\n",
       "  </thead>\n",
       "  <tbody>\n",
       "    <tr>\n",
       "      <th>0</th>\n",
       "      <td>1</td>\n",
       "      <td>CA-2016-152156</td>\n",
       "      <td>11/8/2016</td>\n",
       "      <td>11/11/2016</td>\n",
       "      <td>Second Class</td>\n",
       "      <td>CG-12520</td>\n",
       "      <td>Claire Gute</td>\n",
       "      <td>Consumer</td>\n",
       "      <td>United States</td>\n",
       "      <td>Henderson</td>\n",
       "      <td>...</td>\n",
       "      <td>42420</td>\n",
       "      <td>South</td>\n",
       "      <td>FUR-BO-10001798</td>\n",
       "      <td>Furniture</td>\n",
       "      <td>Bookcases</td>\n",
       "      <td>Bush Somerset Collection Bookcase</td>\n",
       "      <td>261.9600</td>\n",
       "      <td>2</td>\n",
       "      <td>0.00</td>\n",
       "      <td>41.9136</td>\n",
       "    </tr>\n",
       "    <tr>\n",
       "      <th>1</th>\n",
       "      <td>2</td>\n",
       "      <td>CA-2016-152156</td>\n",
       "      <td>11/8/2016</td>\n",
       "      <td>11/11/2016</td>\n",
       "      <td>Second Class</td>\n",
       "      <td>CG-12520</td>\n",
       "      <td>Claire Gute</td>\n",
       "      <td>Consumer</td>\n",
       "      <td>United States</td>\n",
       "      <td>Henderson</td>\n",
       "      <td>...</td>\n",
       "      <td>42420</td>\n",
       "      <td>South</td>\n",
       "      <td>FUR-CH-10000454</td>\n",
       "      <td>Furniture</td>\n",
       "      <td>Chairs</td>\n",
       "      <td>Hon Deluxe Fabric Upholstered Stacking Chairs,...</td>\n",
       "      <td>731.9400</td>\n",
       "      <td>3</td>\n",
       "      <td>0.00</td>\n",
       "      <td>219.5820</td>\n",
       "    </tr>\n",
       "    <tr>\n",
       "      <th>2</th>\n",
       "      <td>3</td>\n",
       "      <td>CA-2016-138688</td>\n",
       "      <td>6/12/2016</td>\n",
       "      <td>6/16/2016</td>\n",
       "      <td>Second Class</td>\n",
       "      <td>DV-13045</td>\n",
       "      <td>Darrin Van Huff</td>\n",
       "      <td>Corporate</td>\n",
       "      <td>United States</td>\n",
       "      <td>Los Angeles</td>\n",
       "      <td>...</td>\n",
       "      <td>90036</td>\n",
       "      <td>West</td>\n",
       "      <td>OFF-LA-10000240</td>\n",
       "      <td>Office Supplies</td>\n",
       "      <td>Labels</td>\n",
       "      <td>Self-Adhesive Address Labels for Typewriters b...</td>\n",
       "      <td>14.6200</td>\n",
       "      <td>2</td>\n",
       "      <td>0.00</td>\n",
       "      <td>6.8714</td>\n",
       "    </tr>\n",
       "    <tr>\n",
       "      <th>3</th>\n",
       "      <td>4</td>\n",
       "      <td>US-2015-108966</td>\n",
       "      <td>10/11/2015</td>\n",
       "      <td>10/18/2015</td>\n",
       "      <td>Standard Class</td>\n",
       "      <td>SO-20335</td>\n",
       "      <td>Sean O'Donnell</td>\n",
       "      <td>Consumer</td>\n",
       "      <td>United States</td>\n",
       "      <td>Fort Lauderdale</td>\n",
       "      <td>...</td>\n",
       "      <td>33311</td>\n",
       "      <td>South</td>\n",
       "      <td>FUR-TA-10000577</td>\n",
       "      <td>Furniture</td>\n",
       "      <td>Tables</td>\n",
       "      <td>Bretford CR4500 Series Slim Rectangular Table</td>\n",
       "      <td>957.5775</td>\n",
       "      <td>5</td>\n",
       "      <td>0.45</td>\n",
       "      <td>-383.0310</td>\n",
       "    </tr>\n",
       "    <tr>\n",
       "      <th>4</th>\n",
       "      <td>5</td>\n",
       "      <td>US-2015-108966</td>\n",
       "      <td>10/11/2015</td>\n",
       "      <td>10/18/2015</td>\n",
       "      <td>Standard Class</td>\n",
       "      <td>SO-20335</td>\n",
       "      <td>Sean O'Donnell</td>\n",
       "      <td>Consumer</td>\n",
       "      <td>United States</td>\n",
       "      <td>Fort Lauderdale</td>\n",
       "      <td>...</td>\n",
       "      <td>33311</td>\n",
       "      <td>South</td>\n",
       "      <td>OFF-ST-10000760</td>\n",
       "      <td>Office Supplies</td>\n",
       "      <td>Storage</td>\n",
       "      <td>Eldon Fold 'N Roll Cart System</td>\n",
       "      <td>22.3680</td>\n",
       "      <td>2</td>\n",
       "      <td>0.20</td>\n",
       "      <td>2.5164</td>\n",
       "    </tr>\n",
       "  </tbody>\n",
       "</table>\n",
       "<p>5 rows × 21 columns</p>\n",
       "</div>"
      ],
      "text/plain": [
       "   Row ID        Order ID  Order Date   Ship Date       Ship Mode Customer ID  \\\n",
       "0       1  CA-2016-152156   11/8/2016  11/11/2016    Second Class    CG-12520   \n",
       "1       2  CA-2016-152156   11/8/2016  11/11/2016    Second Class    CG-12520   \n",
       "2       3  CA-2016-138688   6/12/2016   6/16/2016    Second Class    DV-13045   \n",
       "3       4  US-2015-108966  10/11/2015  10/18/2015  Standard Class    SO-20335   \n",
       "4       5  US-2015-108966  10/11/2015  10/18/2015  Standard Class    SO-20335   \n",
       "\n",
       "     Customer Name    Segment        Country             City  ...  \\\n",
       "0      Claire Gute   Consumer  United States        Henderson  ...   \n",
       "1      Claire Gute   Consumer  United States        Henderson  ...   \n",
       "2  Darrin Van Huff  Corporate  United States      Los Angeles  ...   \n",
       "3   Sean O'Donnell   Consumer  United States  Fort Lauderdale  ...   \n",
       "4   Sean O'Donnell   Consumer  United States  Fort Lauderdale  ...   \n",
       "\n",
       "  Postal Code  Region       Product ID         Category Sub-Category  \\\n",
       "0       42420   South  FUR-BO-10001798        Furniture    Bookcases   \n",
       "1       42420   South  FUR-CH-10000454        Furniture       Chairs   \n",
       "2       90036    West  OFF-LA-10000240  Office Supplies       Labels   \n",
       "3       33311   South  FUR-TA-10000577        Furniture       Tables   \n",
       "4       33311   South  OFF-ST-10000760  Office Supplies      Storage   \n",
       "\n",
       "                                        Product Name     Sales  Quantity  \\\n",
       "0                  Bush Somerset Collection Bookcase  261.9600         2   \n",
       "1  Hon Deluxe Fabric Upholstered Stacking Chairs,...  731.9400         3   \n",
       "2  Self-Adhesive Address Labels for Typewriters b...   14.6200         2   \n",
       "3      Bretford CR4500 Series Slim Rectangular Table  957.5775         5   \n",
       "4                     Eldon Fold 'N Roll Cart System   22.3680         2   \n",
       "\n",
       "   Discount    Profit  \n",
       "0      0.00   41.9136  \n",
       "1      0.00  219.5820  \n",
       "2      0.00    6.8714  \n",
       "3      0.45 -383.0310  \n",
       "4      0.20    2.5164  \n",
       "\n",
       "[5 rows x 21 columns]"
      ]
     },
     "execution_count": 5,
     "metadata": {},
     "output_type": "execute_result"
    }
   ],
   "source": [
    "df.head()"
   ]
  },
  {
   "cell_type": "markdown",
   "id": "2dc26f60",
   "metadata": {},
   "source": [
    "# Identifikasi Missing Values"
   ]
  },
  {
   "cell_type": "code",
   "execution_count": 6,
   "id": "a7467971",
   "metadata": {},
   "outputs": [
    {
     "name": "stdout",
     "output_type": "stream",
     "text": [
      "Row ID           0\n",
      "Order ID         0\n",
      "Order Date       0\n",
      "Ship Date        0\n",
      "Ship Mode        0\n",
      "Customer ID      0\n",
      "Customer Name    0\n",
      "Segment          0\n",
      "Country          0\n",
      "City             0\n",
      "State            0\n",
      "Postal Code      0\n",
      "Region           0\n",
      "Product ID       0\n",
      "Category         0\n",
      "Sub-Category     0\n",
      "Product Name     0\n",
      "Sales            0\n",
      "Quantity         0\n",
      "Discount         0\n",
      "Profit           0\n",
      "dtype: int64\n"
     ]
    }
   ],
   "source": [
    "# Menampilkan kolom dengan jumlah missing values\n",
    "print(df.isnull().sum())"
   ]
  },
  {
   "cell_type": "markdown",
   "id": "73a41471bb3832ed",
   "metadata": {
    "collapsed": false
   },
   "source": [
    "## Pearson Correlation Analysis of Sales and Quantity"
   ]
  },
  {
   "cell_type": "code",
   "execution_count": 7,
   "id": "4a68e1874bb5f64f",
   "metadata": {
    "ExecuteTime": {
     "end_time": "2024-01-26T17:05:30.346381929Z",
     "start_time": "2024-01-26T17:05:30.339586465Z"
    },
    "collapsed": false
   },
   "outputs": [
    {
     "name": "stdout",
     "output_type": "stream",
     "text": [
      "0.20079477137389762\n"
     ]
    }
   ],
   "source": [
    "korelasi = pearsonr(df['Sales'], df['Quantity'])\n",
    "print(korelasi.statistic)"
   ]
  },
  {
   "cell_type": "code",
   "execution_count": 8,
   "id": "cf734139",
   "metadata": {},
   "outputs": [
    {
     "data": {
      "image/png": "[encoded data removed]",
      "text/plain": [
       "<Figure size 640x480 with 2 Axes>"
      ]
     },
     "metadata": {},
     "output_type": "display_data"
    }
   ],
   "source": [
    "selected_columns = ['Sales', 'Quantity']\n",
    "correlation_matrix = df[selected_columns].corr()\n",
    "\n",
    "# Visualisasi dengan heatmap\n",
    "sns.heatmap(correlation_matrix, annot=True, cmap='coolwarm')\n",
    "plt.title('Matriks Korelasi Pearson untuk Label Tertentu')\n",
    "plt.show()"
   ]
  },
  {
   "cell_type": "markdown",
   "id": "1bc16bbd192475ed",
   "metadata": {
    "collapsed": false
   },
   "source": [
    "## Pearson Correlation Analysis of Sales and Discount"
   ]
  },
  {
   "cell_type": "code",
   "execution_count": 9,
   "id": "2dd0380c1a3b3b08",
   "metadata": {
    "ExecuteTime": {
     "end_time": "2024-01-26T17:05:32.113270518Z",
     "start_time": "2024-01-26T17:05:32.089068631Z"
    },
    "collapsed": false
   },
   "outputs": [
    {
     "name": "stdout",
     "output_type": "stream",
     "text": [
      "-0.02819012415753522\n"
     ]
    }
   ],
   "source": [
    "korelasi = pearsonr(df['Sales'], df['Discount'])\n",
    "print(korelasi.statistic)"
   ]
  },
  {
   "cell_type": "code",
   "execution_count": 10,
   "id": "3d1c06fd",
   "metadata": {},
   "outputs": [
    {
     "data": {
      "image/png": "[encoded data removed]",
      "text/plain": [
       "<Figure size 640x480 with 2 Axes>"
      ]
     },
     "metadata": {},
     "output_type": "display_data"
    }
   ],
   "source": [
    "selected_columns = ['Sales', 'Discount']\n",
    "correlation_matrix = df[selected_columns].corr()\n",
    "\n",
    "# Visualisasi dengan heatmap\n",
    "sns.heatmap(correlation_matrix, annot=True, cmap='plasma')\n",
    "plt.title('Matriks Korelasi Pearson untuk Label Tertentu')\n",
    "plt.show()"
   ]
  },
  {
   "cell_type": "markdown",
   "id": "65ce57c0cb187f60",
   "metadata": {
    "collapsed": false
   },
   "source": [
    "## Pearson Correlation Analysis of Sales and Profit"
   ]
  },
  {
   "cell_type": "code",
   "execution_count": 11,
   "id": "3c3439c50622a87",
   "metadata": {
    "ExecuteTime": {
     "end_time": "2024-01-26T17:05:34.401866461Z",
     "start_time": "2024-01-26T17:05:34.383350873Z"
    },
    "collapsed": false
   },
   "outputs": [
    {
     "name": "stdout",
     "output_type": "stream",
     "text": [
      "0.4790643497377067\n"
     ]
    }
   ],
   "source": [
    "korelasi = pearsonr(df['Sales'], df['Profit'])\n",
    "print(korelasi.statistic)"
   ]
  },
  {
   "cell_type": "markdown",
   "id": "407100d617b5f48d",
   "metadata": {
    "collapsed": false
   },
   "source": [
    "## Pearson Correlation Analysis of Quantity and Discount"
   ]
  },
  {
   "cell_type": "code",
   "execution_count": 12,
   "id": "245dec0009b0a7c8",
   "metadata": {
    "ExecuteTime": {
     "end_time": "2024-01-26T17:05:36.555701687Z",
     "start_time": "2024-01-26T17:05:36.546910260Z"
    },
    "collapsed": false
   },
   "outputs": [
    {
     "name": "stdout",
     "output_type": "stream",
     "text": [
      "0.008622970271156417\n"
     ]
    }
   ],
   "source": [
    "korelasi = pearsonr(df['Quantity'], df['Discount'])\n",
    "print(korelasi.statistic)"
   ]
  },
  {
   "cell_type": "markdown",
   "id": "26fd69347dec64b0",
   "metadata": {
    "collapsed": false
   },
   "source": [
    "## Pearson Correlation Analysis of Quantity and Profit"
   ]
  },
  {
   "cell_type": "code",
   "execution_count": 13,
   "id": "31bb5540fbaebba2",
   "metadata": {
    "ExecuteTime": {
     "end_time": "2024-01-26T17:05:38.620894106Z",
     "start_time": "2024-01-26T17:05:38.610980677Z"
    },
    "collapsed": false
   },
   "outputs": [
    {
     "name": "stdout",
     "output_type": "stream",
     "text": [
      "0.06625318912428486\n"
     ]
    }
   ],
   "source": [
    "korelasi = pearsonr(df['Quantity'], df['Profit'])\n",
    "print(korelasi.statistic)"
   ]
  },
  {
   "cell_type": "markdown",
   "id": "3ecffc89",
   "metadata": {},
   "source": [
    "## Pearson Correlation Analysis of Discount and Profit"
   ]
  },
  {
   "cell_type": "code",
   "execution_count": 14,
   "id": "516ec5e6",
   "metadata": {},
   "outputs": [
    {
     "name": "stdout",
     "output_type": "stream",
     "text": [
      "-0.21948745637176584\n"
     ]
    }
   ],
   "source": [
    "korelasi = pearsonr(df['Discount'], df['Profit'])\n",
    "print(korelasi.statistic)"
   ]
  },
  {
   "cell_type": "markdown",
   "id": "369f557af59475f1",
   "metadata": {
    "collapsed": false
   },
   "source": [
    "## Setelah dilakukan analisis korelasi Pearson antara variabel 'Sales', 'Quantity', 'Discount', dan 'Profit' ditemukan bahwa:\n",
    "- Variabel 'Sales' dan 'Quantity' berkorelasi sangat lemah\n",
    "- Variabel 'Sales' dan 'Discount' berkorelasi Sangat lemah\n",
    "- Variabel 'Sales' dan 'Profit' berkorelasi lemah\n",
    "- Variabel 'Quantity' dan 'Discount' berkorelasi sangat lemah\n",
    "- Variabel 'Quantity' dan 'Profit' berkorelasi sangat lemah\n",
    "- Variabel 'Discount' dan 'Profit' berkorelasi sangat lemah"
   ]
  },
  {
   "cell_type": "markdown",
   "id": "df3924918c39a4a9",
   "metadata": {
    "collapsed": false
   },
   "source": [
    "#  Sales (Mean, Median, Modus, Range, Varians, Standar Deviasi)"
   ]
  },
  {
   "cell_type": "code",
   "execution_count": 15,
   "id": "92c6cc12fbdcd0f4",
   "metadata": {
    "ExecuteTime": {
     "end_time": "2024-01-26T17:42:23.523247440Z",
     "start_time": "2024-01-26T17:42:23.475492716Z"
    },
    "collapsed": false
   },
   "outputs": [
    {
     "name": "stdout",
     "output_type": "stream",
     "text": [
      "Sales Mean : 229.85800083049833\n",
      "Sales Median : 54.489999999999995\n",
      "Sales Modus : 12.96\n"
     ]
    }
   ],
   "source": [
    "sales_mean = np.mean(df['Sales'])\n",
    "sales_median = np.median(df['Sales'])\n",
    "sales_modus = mode(df['Sales'])\n",
    "\n",
    "\n",
    "print(f'Sales Mean : {sales_mean}')\n",
    "print(f'Sales Median : {sales_median}')\n",
    "print(f'Sales Modus : {sales_modus.mode}')\n"
   ]
  },
  {
   "cell_type": "code",
   "execution_count": 16,
   "id": "0dc2b3ae",
   "metadata": {},
   "outputs": [
    {
     "data": {
      "image/png": "[encoded data removed]",
      "text/plain": [
       "<Figure size 640x480 with 1 Axes>"
      ]
     },
     "metadata": {},
     "output_type": "display_data"
    }
   ],
   "source": [
    "# Membuat grafik batang\n",
    "labels = ['Mean', 'Median', 'Modus']\n",
    "values = [sales_mean, sales_median, sales_modus.mode]\n",
    "\n",
    "plt.bar(labels, values, color=['blue', 'grey', 'grey'])\n",
    "plt.ylabel('Quantity')\n",
    "plt.title('Mean, Median, and Modus of Sales')\n",
    "plt.show()"
   ]
  },
  {
   "cell_type": "markdown",
   "id": "2b25da24",
   "metadata": {},
   "source": [
    "#  Quantity (Mean, Median, Modus)"
   ]
  },
  {
   "cell_type": "code",
   "execution_count": 17,
   "id": "2f9913a6",
   "metadata": {},
   "outputs": [
    {
     "name": "stdout",
     "output_type": "stream",
     "text": [
      "Quantity Mean: 3.789573744246548\n",
      "Quantity Median: 3.0\n",
      "Quantity Modus: 3\n"
     ]
    }
   ],
   "source": [
    "Quantity_Mean = np.mean(df['Quantity'])\n",
    "Quantity_Median = np.median(df['Quantity'])\n",
    "Quantity_Modus = mode(df['Quantity'])\n",
    "\n",
    "print(f'Quantity Mean: {Quantity_Mean}')\n",
    "print(f'Quantity Median: {Quantity_Median}')\n",
    "print(f'Quantity Modus: {Quantity_Modus.mode}')"
   ]
  },
  {
   "cell_type": "code",
   "execution_count": 18,
   "id": "b6def93d",
   "metadata": {},
   "outputs": [
    {
     "data": {
      "image/png": "[encoded data removed]",
      "text/plain": [
       "<Figure size 640x480 with 1 Axes>"
      ]
     },
     "metadata": {},
     "output_type": "display_data"
    }
   ],
   "source": [
    "# Membuat grafik batang\n",
    "labels = ['Quantity Mean', 'Quantity Median', 'Quantiry Modus']\n",
    "values = [Quantity_Mean, Quantity_Median, Quantity_Modus.mode]\n",
    "\n",
    "plt.bar(labels, values, color=['blue', 'grey', 'grey'])\n",
    "plt.ylabel('Quantity')\n",
    "plt.title('Mean, Median, and Modus of Quantity')\n",
    "plt.show()"
   ]
  },
  {
   "cell_type": "markdown",
   "id": "fb054013",
   "metadata": {},
   "source": [
    "#  Discount (Mean, Median, Modus)"
   ]
  },
  {
   "cell_type": "code",
   "execution_count": 19,
   "id": "d4f0dded",
   "metadata": {},
   "outputs": [
    {
     "name": "stdout",
     "output_type": "stream",
     "text": [
      "Discount Mean: 0.15620272163297977\n",
      "Discount Median: 0.2\n",
      "Discount Modus: 0.0\n"
     ]
    }
   ],
   "source": [
    "Discount_Mean = np.mean(df['Discount'])\n",
    "Discount_Median = np.median(df['Discount'])\n",
    "Discount_Modus = mode(df['Discount'])\n",
    "\n",
    "print(f'Discount Mean: {Discount_Mean}')\n",
    "print(f'Discount Median: {Discount_Median}')\n",
    "print(f'Discount Modus: {Discount_Modus.mode}')"
   ]
  },
  {
   "cell_type": "code",
   "execution_count": 20,
   "id": "d412832d",
   "metadata": {},
   "outputs": [
    {
     "data": {
      "image/png": "[encoded data removed]",
      "text/plain": [
       "<Figure size 640x480 with 1 Axes>"
      ]
     },
     "metadata": {},
     "output_type": "display_data"
    }
   ],
   "source": [
    "# Membuat grafik batang\n",
    "labels = ['Discount Mean', 'Discount Median', 'Discount Modus']\n",
    "values = [Discount_Mean, Discount_Median, Discount_Modus.mode]\n",
    "\n",
    "plt.bar(labels, values, color=['grey', 'blue', 'grey'])\n",
    "plt.ylabel('Discount')\n",
    "plt.title('Mean, Median, and Modus of Discount')\n",
    "plt.show()"
   ]
  },
  {
   "cell_type": "markdown",
   "id": "26d87eb0",
   "metadata": {},
   "source": [
    "#  Profit (Mean, Median, Modus)"
   ]
  },
  {
   "cell_type": "code",
   "execution_count": 21,
   "id": "c71334af",
   "metadata": {},
   "outputs": [
    {
     "name": "stdout",
     "output_type": "stream",
     "text": [
      "Profit Mean: 28.65689630778467\n",
      "Profit Median: 8.666499999999996\n",
      "Profit Modus: 0.0\n"
     ]
    }
   ],
   "source": [
    "Profit_Mean = np.mean(df['Profit'])\n",
    "Profit_Median = np.median(df['Profit'])\n",
    "Profit_Modus = mode(df['Profit'])\n",
    "\n",
    "print(f'Profit Mean: {Profit_Mean}')\n",
    "print(f'Profit Median: {Profit_Median}')\n",
    "print(f'Profit Modus: {Profit_Modus.mode}')"
   ]
  },
  {
   "cell_type": "code",
   "execution_count": 22,
   "id": "37d54a33",
   "metadata": {},
   "outputs": [
    {
     "data": {
      "image/png": "[encoded data removed]",
      "text/plain": [
       "<Figure size 640x480 with 1 Axes>"
      ]
     },
     "metadata": {},
     "output_type": "display_data"
    }
   ],
   "source": [
    "# Membuat grafik batang\n",
    "labels = ['Profit Mean', 'Profit Median', 'Profit Modus']\n",
    "values = [Profit_Mean, Profit_Median, Profit_Modus.mode]\n",
    "\n",
    "plt.bar(labels, values, color=['blue', 'grey', 'grey'])\n",
    "plt.ylabel('Profit')\n",
    "plt.title('Mean, Median, and Modus of Profit')\n",
    "plt.show()"
   ]
  },
  {
   "cell_type": "markdown",
   "id": "46ee7b55",
   "metadata": {},
   "source": [
    "# Sales (Range, Varians, Std Deviasi)"
   ]
  },
  {
   "cell_type": "code",
   "execution_count": 23,
   "id": "a1ef97bf",
   "metadata": {},
   "outputs": [
    {
     "name": "stdout",
     "output_type": "stream",
     "text": [
      "Rentang (Range): 22638.036\n",
      "Varians Sales : 388395.58854248544\n",
      "Standar Deviasi Sales : 623.2139187650461\n"
     ]
    }
   ],
   "source": [
    "sales_range = np.max(df['Sales']) - np.min(df['Sales'])\n",
    "sales_var = np.var(df['Sales'])\n",
    "sales_std = np.std(df['Sales'])\n",
    "\n",
    "print(f'Rentang (Range): {sales_range}')\n",
    "print(f'Varians Sales : {sales_var}')\n",
    "print(f'Standar Deviasi Sales : {sales_std}')"
   ]
  },
  {
   "cell_type": "code",
   "execution_count": 24,
   "id": "e0bedb58",
   "metadata": {},
   "outputs": [
    {
     "data": {
      "image/png": "[encoded data removed]",
      "text/plain": [
       "<Figure size 640x480 with 1 Axes>"
      ]
     },
     "metadata": {},
     "output_type": "display_data"
    }
   ],
   "source": [
    "# Menyiapkan data untuk visualisasi\n",
    "stats_labels = ['Rentang (Range)', 'Varians Sales', 'Standar Deviasi Sales']\n",
    "stats_values = [sales_range, sales_var, sales_std]\n",
    "\n",
    "plt.bar(stats_labels, stats_values, color=['grey', 'blue', 'grey'])\n",
    "plt.ylabel('Sales')\n",
    "plt.title('Statistik Penjualan')\n",
    "plt.show()"
   ]
  },
  {
   "cell_type": "markdown",
   "id": "d21e5257",
   "metadata": {},
   "source": [
    "# Quantity (Range, Varians, Std Deviasi)"
   ]
  },
  {
   "cell_type": "code",
   "execution_count": 25,
   "id": "f83ea56b",
   "metadata": {},
   "outputs": [
    {
     "name": "stdout",
     "output_type": "stream",
     "text": [
      "Rentang (Range): 13\n",
      "Varians Quantity : 4.95061772905248\n",
      "Standar Deviasi Quantity : 2.224998366078609\n"
     ]
    }
   ],
   "source": [
    "quantity_range = np.max(df['Quantity']) - np.min(df['Quantity'])\n",
    "quantity_var = np.var(df['Quantity'])\n",
    "quantity_std = np.std(df['Quantity'])\n",
    "\n",
    "print(f'Rentang (Range): {quantity_range}')\n",
    "print(f'Varians Quantity : {quantity_var}')\n",
    "print(f'Standar Deviasi Quantity : {quantity_std}')"
   ]
  },
  {
   "cell_type": "code",
   "execution_count": 26,
   "id": "0ec2370e",
   "metadata": {},
   "outputs": [
    {
     "data": {
      "image/png": "[encoded data removed]",
      "text/plain": [
       "<Figure size 640x480 with 1 Axes>"
      ]
     },
     "metadata": {},
     "output_type": "display_data"
    }
   ],
   "source": [
    "# Menyiapkan data untuk visualisasi\n",
    "stats_labels = ['Rentang (Range)', 'Varians Quantity', 'Standar Deviasi Quantity']\n",
    "stats_values = [quantity_range, quantity_var, quantity_std]\n",
    "\n",
    "plt.bar(stats_labels, stats_values, color=['blue', 'grey', 'grey'])\n",
    "plt.ylabel('Quantity')\n",
    "plt.title('Range, Varians, Standart Deviasi dari Quantity')\n",
    "plt.show()"
   ]
  },
  {
   "cell_type": "markdown",
   "id": "387ff720",
   "metadata": {},
   "source": [
    "# Discount (Range, Varians, Std Deviasi)"
   ]
  },
  {
   "cell_type": "code",
   "execution_count": 27,
   "id": "32ab82ce",
   "metadata": {},
   "outputs": [
    {
     "name": "stdout",
     "output_type": "stream",
     "text": [
      "Rentang (Range): 0.8\n",
      "Varians Discount : 0.0426181502187284\n",
      "Standar Deviasi Discount : 0.2064416387716596\n"
     ]
    }
   ],
   "source": [
    "discount_range = np.max(df['Discount']) - np.min(df['Discount'])\n",
    "discount_var = np.var(df['Discount'])\n",
    "discount_std = np.std(df['Discount'])\n",
    "\n",
    "print(f'Rentang (Range): {discount_range}')\n",
    "print(f'Varians Discount : {discount_var}')\n",
    "print(f'Standar Deviasi Discount : {discount_std}')"
   ]
  },
  {
   "cell_type": "code",
   "execution_count": 28,
   "id": "3f841300",
   "metadata": {},
   "outputs": [
    {
     "data": {
      "image/png": "[encoded data removed]",
      "text/plain": [
       "<Figure size 640x480 with 1 Axes>"
      ]
     },
     "metadata": {},
     "output_type": "display_data"
    }
   ],
   "source": [
    "# Menyiapkan data untuk visualisasi\n",
    "stats_labels = ['Rentang (Range)', 'Varians Discount', 'Standar Deviasi Discount']\n",
    "stats_values = [discount_range, discount_var, discount_std]\n",
    "\n",
    "plt.bar(stats_labels, stats_values, color=['blue', 'grey', 'grey'])\n",
    "plt.ylabel('Discount')\n",
    "plt.title('Range, Varians, Standart Deviasi dari Discount')\n",
    "plt.show()"
   ]
  },
  {
   "cell_type": "markdown",
   "id": "75d00386",
   "metadata": {},
   "source": [
    "# Profit (Range, Varians, Std Deviasi)"
   ]
  },
  {
   "cell_type": "code",
   "execution_count": 29,
   "id": "5edda512",
   "metadata": {},
   "outputs": [
    {
     "name": "stdout",
     "output_type": "stream",
     "text": [
      "Rentang (Range): 14999.954000000002\n",
      "Varians Profit : 54872.306980928704\n",
      "Standar Deviasi Profit : 234.2483873603588\n"
     ]
    }
   ],
   "source": [
    "Profit_range = np.max(df['Profit']) - np.min(df['Profit'])\n",
    "Profit_var = np.var(df['Profit'])\n",
    "Profit_std = np.std(df['Profit'])\n",
    "\n",
    "print(f'Rentang (Range): {Profit_range}')\n",
    "print(f'Varians Profit : {Profit_var}')\n",
    "print(f'Standar Deviasi Profit : {Profit_std}')"
   ]
  },
  {
   "cell_type": "code",
   "execution_count": 30,
   "id": "96c6f887",
   "metadata": {},
   "outputs": [
    {
     "data": {
      "image/png": "[encoded data removed]",
      "text/plain": [
       "<Figure size 640x480 with 1 Axes>"
      ]
     },
     "metadata": {},
     "output_type": "display_data"
    }
   ],
   "source": [
    "# Menyiapkan data untuk visualisasi\n",
    "stats_labels = ['Rentang (Range)', 'Varians Profit', 'Standar Deviasi Profit']\n",
    "stats_values = [Profit_range, Profit_var, Profit_std]\n",
    "\n",
    "plt.bar(stats_labels, stats_values, color=['grey', 'blue', 'grey'])\n",
    "plt.ylabel('Profit')\n",
    "plt.title('Range, Varians, Standart Deviasi dari Profit')\n",
    "plt.show()"
   ]
  },
  {
   "cell_type": "markdown",
   "id": "d13c5c51",
   "metadata": {},
   "source": [
    "# Skewness of Sales, Quantity, Discount, Sales"
   ]
  },
  {
   "cell_type": "code",
   "execution_count": 31,
   "id": "daf382dd",
   "metadata": {},
   "outputs": [
    {
     "name": "stdout",
     "output_type": "stream",
     "text": [
      "Skewness of Sales: 12.970805179533526\n",
      "Skewness of Quantity: 1.2783528478702606\n",
      "Skewness of Discount: 1.6840419409939928\n",
      "Skewness of Profit: 7.560296619477546\n"
     ]
    }
   ],
   "source": [
    "#Sales\n",
    "skewness = skew(df['Sales'])\n",
    "print(\"Skewness of Sales:\", skewness)\n",
    "\n",
    "#Quantity\n",
    "skewness = skew(df['Quantity'])\n",
    "print(\"Skewness of Quantity:\", skewness)\n",
    "\n",
    "#Discount\n",
    "skewness = skew(df['Discount'])\n",
    "print(\"Skewness of Discount:\", skewness)\n",
    "\n",
    "#Profit\n",
    "skewness = skew(df['Profit'])\n",
    "print(\"Skewness of Profit:\", skewness)"
   ]
  },
  {
   "cell_type": "markdown",
   "id": "e80d5ac7",
   "metadata": {},
   "source": [
    "# Kuartil of Sales, Quantity, Discount, Sales"
   ]
  },
  {
   "cell_type": "code",
   "execution_count": 32,
   "id": "dc7be9ce",
   "metadata": {},
   "outputs": [
    {
     "name": "stdout",
     "output_type": "stream",
     "text": [
      "--Sales--\n",
      "Kuartil Pertama (Q1): 17.28\n",
      "Kuartil Kedua (Median/Q2): 54.489999999999995\n",
      "Kuartil Ketiga (Q3): 209.94\n",
      "--Quantity--\n",
      "Kuartil Pertama (Q1): 2.0\n",
      "Kuartil Kedua (Median/Q2): 3.0\n",
      "Kuartil Ketiga (Q3): 5.0\n",
      "--Discount--\n",
      "Kuartil Pertama (Q1): 0.0\n",
      "Kuartil Kedua (Median/Q2): 0.2\n",
      "Kuartil Ketiga (Q3): 0.2\n",
      "--Profit--\n",
      "Kuartil Pertama (Q1): 1.72875\n",
      "Kuartil Kedua (Median/Q2): 8.666499999999996\n",
      "Kuartil Ketiga (Q3): 29.364\n"
     ]
    }
   ],
   "source": [
    "# Sales\n",
    "q1s = scoreatpercentile(df['Sales'], 25)\n",
    "q2s = scoreatpercentile(df['Sales'], 50)  # Median\n",
    "q3s = scoreatpercentile(df['Sales'], 75)\n",
    "\n",
    "print(\"--Sales--\")\n",
    "print(\"Kuartil Pertama (Q1):\", q1s)\n",
    "print(\"Kuartil Kedua (Median/Q2):\", q2s)\n",
    "print(\"Kuartil Ketiga (Q3):\", q3s)\n",
    "\n",
    "# Quantity\n",
    "q1q = scoreatpercentile(df['Quantity'], 25)\n",
    "q2q = scoreatpercentile(df['Quantity'], 50)  # Median\n",
    "q3q = scoreatpercentile(df['Quantity'], 75)\n",
    "\n",
    "print(\"--Quantity--\")\n",
    "print(\"Kuartil Pertama (Q1):\", q1q)\n",
    "print(\"Kuartil Kedua (Median/Q2):\", q2q)\n",
    "print(\"Kuartil Ketiga (Q3):\", q3q)\n",
    "\n",
    "# Discount\n",
    "q1d = scoreatpercentile(df['Discount'], 25)\n",
    "q2d = scoreatpercentile(df['Discount'], 50)  # Median\n",
    "q3d = scoreatpercentile(df['Discount'], 75)\n",
    "\n",
    "print(\"--Discount--\")\n",
    "print(\"Kuartil Pertama (Q1):\", q1d)\n",
    "print(\"Kuartil Kedua (Median/Q2):\", q2d)\n",
    "print(\"Kuartil Ketiga (Q3):\", q3d)\n",
    "\n",
    "# Profit\n",
    "q1p = scoreatpercentile(df['Profit'], 25)\n",
    "q2p = scoreatpercentile(df['Profit'], 50)  # Median\n",
    "q3p = scoreatpercentile(df['Profit'], 75)\n",
    "\n",
    "print(\"--Profit--\")\n",
    "print(\"Kuartil Pertama (Q1):\", q1p)\n",
    "print(\"Kuartil Kedua (Median/Q2):\", q2p)\n",
    "print(\"Kuartil Ketiga (Q3):\", q3p)"
   ]
  },
  {
   "cell_type": "markdown",
   "id": "32e7a3a5",
   "metadata": {},
   "source": [
    "# Outlier of Sales, Quantity, Discount, Sales"
   ]
  },
  {
   "cell_type": "code",
   "execution_count": 33,
   "id": "db63453d",
   "metadata": {},
   "outputs": [
    {
     "name": "stdout",
     "output_type": "stream",
     "text": [
      "---Sales---\n",
      "Data: [261.96  731.94   14.62  ... 258.576  29.6   243.16 ]\n",
      "Q1: 17.28\n",
      "Q3: 209.94\n",
      "IQR: 192.66\n",
      "Lower Bound: -271.71000000000004\n",
      "Upper Bound: 498.93\n",
      "Outliers: [ 731.94    957.5775  907.152  ... 1925.88   2405.2     735.98  ]\n"
     ]
    }
   ],
   "source": [
    "# Ambil data dari dataset (gantilah dengan data sesuai dataset Anda)\n",
    "dataS = df['Sales'].values\n",
    "\n",
    "# Hitung kuartil\n",
    "Q1 = np.percentile(dataS, 25)\n",
    "Q3 = np.percentile(dataS, 75)\n",
    "\n",
    "# Hitung IQR\n",
    "IQR = Q3 - Q1\n",
    "\n",
    "# Hitung batas bawah dan batas atas untuk outlier\n",
    "lower_bound = Q1 - 1.5 * IQR\n",
    "upper_bound = Q3 + 1.5 * IQR\n",
    "\n",
    "# Temukan outlier\n",
    "outliers = (dataS < lower_bound) | (dataS > upper_bound)\n",
    "\n",
    "# Cetak hasil\n",
    "print(\"---Sales---\")\n",
    "print(\"Data:\", dataS)\n",
    "print(\"Q1:\", Q1)\n",
    "print(\"Q3:\", Q3)\n",
    "print(\"IQR:\", IQR)\n",
    "print(\"Lower Bound:\", lower_bound)\n",
    "print(\"Upper Bound:\", upper_bound)\n",
    "print(\"Outliers:\", dataS[outliers])"
   ]
  },
  {
   "cell_type": "code",
   "execution_count": 34,
   "id": "8edd94fc",
   "metadata": {},
   "outputs": [
    {
     "name": "stdout",
     "output_type": "stream",
     "text": [
      "---Quantity---\n",
      "Data: [2 3 2 ... 2 4 2]\n",
      "Q1: 2.0\n",
      "Q3: 5.0\n",
      "IQR: 3.0\n",
      "Lower Bound: -2.5\n",
      "Upper Bound: 9.5\n",
      "Outliers: [14 14 11 13 10 10 13 12 10 13 14 10 10 14 10 11 10 12 12 13 14 12 12 12\n",
      " 13 13 10 11 14 14 14 13 14 11 10 13 10 13 12 10 10 13 13 13 10 11 11 10\n",
      " 14 11 14 11 10 13 11 13 11 10 14 10 12 12 10 10 10 14 10 11 11 10 11 12\n",
      " 11 13 10 12 11 10 12 10 11 11 10 14 12 13 10 10 12 11 14 14 10 10 12 10\n",
      " 11 14 10 12 10 11 10 14 14 10 10 14 11 11 11 12 10 11 12 10 13 11 14 10\n",
      " 10 11 12 10 10 12 12 10 14 10 11 10 10 10 10 10 11 10 11 12 14 13 11 10\n",
      " 10 12 11 14 13 13 11 13 10 13 13 14 10 10 14 14 13 11 13 13 10 13 11 14\n",
      " 14 10]\n"
     ]
    }
   ],
   "source": [
    "# Ambil data dari dataset\n",
    "dataQ = df['Quantity'].values\n",
    "\n",
    "# Hitung kuartil\n",
    "Q1 = np.percentile(dataQ, 25)\n",
    "Q3 = np.percentile(dataQ, 75)\n",
    "\n",
    "# Hitung IQR\n",
    "IQR = Q3 - Q1\n",
    "\n",
    "# Hitung batas bawah dan batas atas untuk outlier\n",
    "lower_bound = Q1 - 1.5 * IQR\n",
    "upper_bound = Q3 + 1.5 * IQR\n",
    "\n",
    "# Temukan outlier\n",
    "outliers = (dataQ < lower_bound) | (dataQ > upper_bound)\n",
    "\n",
    "# Cetak hasil\n",
    "print(\"---Quantity---\")\n",
    "print(\"Data:\", dataQ)\n",
    "print(\"Q1:\", Q1)\n",
    "print(\"Q3:\", Q3)\n",
    "print(\"IQR:\", IQR)\n",
    "print(\"Lower Bound:\", lower_bound)\n",
    "print(\"Upper Bound:\", upper_bound)\n",
    "print(\"Outliers:\", dataQ[outliers])"
   ]
  },
  {
   "cell_type": "code",
   "execution_count": 35,
   "id": "a86dbee5",
   "metadata": {},
   "outputs": [
    {
     "name": "stdout",
     "output_type": "stream",
     "text": [
      "---Discount---\n",
      "Data: [0.  0.  0.  ... 0.2 0.  0. ]\n",
      "Q1: 0.0\n",
      "Q3: 0.2\n",
      "IQR: 0.2\n",
      "Lower Bound: -0.30000000000000004\n",
      "Upper Bound: 0.5\n",
      "Outliers: [0.8 0.8 0.7 0.7 0.6 0.8 0.6 0.6 0.7 0.8 0.7 0.7 0.7 0.8 0.8 0.8 0.7 0.8\n",
      " 0.7 0.7 0.7 0.7 0.7 0.6 0.6 0.6 0.6 0.8 0.8 0.7 0.7 0.7 0.7 0.7 0.7 0.7\n",
      " 0.8 0.8 0.7 0.8 0.7 0.7 0.7 0.6 0.8 0.7 0.7 0.7 0.8 0.8 0.6 0.8 0.6 0.7\n",
      " 0.7 0.7 0.7 0.7 0.7 0.8 0.7 0.7 0.8 0.8 0.6 0.8 0.6 0.8 0.7 0.7 0.8 0.7\n",
      " 0.7 0.7 0.8 0.7 0.7 0.7 0.7 0.8 0.8 0.7 0.7 0.7 0.7 0.7 0.8 0.7 0.7 0.7\n",
      " 0.8 0.7 0.7 0.7 0.7 0.7 0.8 0.8 0.6 0.8 0.8 0.8 0.8 0.7 0.7 0.7 0.7 0.7\n",
      " 0.7 0.8 0.8 0.7 0.8 0.7 0.7 0.8 0.8 0.8 0.7 0.7 0.6 0.7 0.7 0.7 0.6 0.6\n",
      " 0.7 0.7 0.7 0.7 0.6 0.8 0.8 0.8 0.8 0.8 0.6 0.7 0.7 0.7 0.6 0.8 0.7 0.7\n",
      " 0.7 0.7 0.7 0.7 0.8 0.7 0.7 0.8 0.7 0.6 0.8 0.6 0.8 0.7 0.6 0.8 0.7 0.7\n",
      " 0.7 0.7 0.7 0.7 0.7 0.8 0.8 0.7 0.8 0.6 0.8 0.7 0.7 0.7 0.7 0.7 0.8 0.7\n",
      " 0.7 0.6 0.8 0.7 0.6 0.8 0.6 0.8 0.8 0.8 0.7 0.6 0.8 0.7 0.6 0.7 0.7 0.8\n",
      " 0.8 0.6 0.8 0.8 0.8 0.7 0.8 0.8 0.6 0.6 0.7 0.6 0.7 0.7 0.7 0.7 0.7 0.7\n",
      " 0.7 0.8 0.7 0.7 0.6 0.7 0.7 0.7 0.7 0.8 0.6 0.6 0.8 0.8 0.7 0.8 0.8 0.7\n",
      " 0.7 0.6 0.7 0.7 0.7 0.7 0.7 0.7 0.7 0.6 0.6 0.8 0.6 0.8 0.8 0.7 0.7 0.7\n",
      " 0.8 0.6 0.8 0.7 0.8 0.8 0.7 0.8 0.8 0.8 0.7 0.8 0.8 0.8 0.6 0.8 0.7 0.8\n",
      " 0.7 0.8 0.7 0.7 0.7 0.8 0.6 0.8 0.8 0.6 0.8 0.8 0.6 0.8 0.7 0.8 0.6 0.6\n",
      " 0.7 0.8 0.6 0.6 0.7 0.7 0.8 0.8 0.7 0.7 0.7 0.6 0.7 0.7 0.7 0.7 0.7 0.7\n",
      " 0.7 0.7 0.6 0.8 0.7 0.8 0.7 0.7 0.7 0.7 0.8 0.8 0.6 0.7 0.7 0.8 0.8 0.7\n",
      " 0.7 0.7 0.7 0.8 0.8 0.7 0.8 0.8 0.8 0.8 0.7 0.8 0.7 0.8 0.8 0.8 0.8 0.8\n",
      " 0.8 0.7 0.7 0.7 0.8 0.8 0.8 0.7 0.8 0.6 0.6 0.8 0.8 0.8 0.8 0.6 0.7 0.7\n",
      " 0.8 0.8 0.8 0.8 0.7 0.7 0.7 0.7 0.7 0.6 0.8 0.7 0.7 0.8 0.8 0.7 0.8 0.8\n",
      " 0.7 0.7 0.8 0.8 0.8 0.6 0.7 0.7 0.8 0.8 0.7 0.7 0.8 0.7 0.7 0.6 0.8 0.7\n",
      " 0.6 0.7 0.7 0.7 0.8 0.6 0.8 0.7 0.7 0.7 0.7 0.8 0.7 0.7 0.7 0.7 0.8 0.8\n",
      " 0.7 0.7 0.7 0.7 0.7 0.8 0.7 0.8 0.7 0.8 0.7 0.8 0.7 0.7 0.7 0.7 0.7 0.8\n",
      " 0.7 0.8 0.7 0.8 0.6 0.8 0.6 0.6 0.8 0.8 0.8 0.8 0.7 0.7 0.7 0.6 0.8 0.7\n",
      " 0.7 0.7 0.8 0.7 0.7 0.7 0.7 0.7 0.7 0.8 0.7 0.8 0.7 0.7 0.7 0.7 0.7 0.7\n",
      " 0.6 0.8 0.8 0.8 0.7 0.7 0.7 0.7 0.7 0.8 0.6 0.7 0.7 0.7 0.8 0.8 0.7 0.7\n",
      " 0.7 0.8 0.6 0.8 0.8 0.7 0.8 0.8 0.7 0.8 0.7 0.8 0.7 0.7 0.8 0.7 0.8 0.8\n",
      " 0.6 0.7 0.6 0.8 0.8 0.7 0.7 0.7 0.6 0.7 0.7 0.7 0.7 0.7 0.8 0.7 0.8 0.8\n",
      " 0.8 0.7 0.7 0.7 0.7 0.8 0.6 0.6 0.7 0.6 0.6 0.7 0.6 0.7 0.6 0.6 0.8 0.6\n",
      " 0.7 0.6 0.7 0.7 0.7 0.7 0.8 0.6 0.6 0.7 0.8 0.6 0.7 0.8 0.8 0.7 0.8 0.7\n",
      " 0.6 0.7 0.8 0.8 0.6 0.7 0.8 0.8 0.7 0.7 0.7 0.7 0.7 0.7 0.7 0.7 0.8 0.8\n",
      " 0.7 0.7 0.6 0.8 0.7 0.6 0.7 0.7 0.7 0.7 0.7 0.8 0.6 0.8 0.7 0.7 0.7 0.6\n",
      " 0.7 0.8 0.7 0.7 0.7 0.7 0.7 0.6 0.7 0.6 0.8 0.7 0.8 0.8 0.7 0.7 0.6 0.7\n",
      " 0.7 0.8 0.8 0.6 0.7 0.6 0.6 0.7 0.7 0.7 0.7 0.7 0.6 0.8 0.8 0.7 0.7 0.7\n",
      " 0.7 0.8 0.8 0.6 0.7 0.8 0.7 0.7 0.6 0.8 0.7 0.7 0.6 0.7 0.8 0.6 0.7 0.8\n",
      " 0.8 0.8 0.6 0.7 0.7 0.7 0.7 0.7 0.7 0.7 0.7 0.8 0.8 0.6 0.8 0.6 0.7 0.7\n",
      " 0.7 0.6 0.8 0.8 0.8 0.7 0.8 0.8 0.6 0.6 0.6 0.6 0.7 0.8 0.7 0.6 0.7 0.7\n",
      " 0.7 0.6 0.8 0.8 0.8 0.6 0.8 0.7 0.7 0.7 0.6 0.7 0.8 0.8 0.8 0.7 0.7 0.8\n",
      " 0.8 0.8 0.7 0.6 0.8 0.7 0.6 0.8 0.8 0.8 0.7 0.8 0.8 0.6 0.6 0.7 0.7 0.6\n",
      " 0.7 0.6 0.7 0.6 0.7 0.7 0.8 0.7 0.7 0.7 0.8 0.6 0.6 0.8 0.7 0.8 0.6 0.8\n",
      " 0.7 0.7 0.7 0.8 0.8 0.8 0.7 0.7 0.7 0.7 0.7 0.7 0.8 0.8 0.7 0.7 0.7 0.6\n",
      " 0.7 0.8 0.8 0.8 0.7 0.8 0.7 0.7 0.8 0.8 0.8 0.8 0.8 0.8 0.8 0.6 0.7 0.7\n",
      " 0.7 0.8 0.8 0.7 0.8 0.6 0.8 0.7 0.6 0.6 0.7 0.7 0.8 0.7 0.7 0.8 0.7 0.7\n",
      " 0.8 0.8 0.8 0.8 0.8 0.7 0.7 0.7 0.7 0.8 0.8 0.8 0.8 0.6 0.6 0.7 0.7 0.8\n",
      " 0.8 0.8 0.7 0.7 0.6 0.8 0.8 0.8 0.8 0.6 0.8 0.7 0.6 0.7 0.7 0.7 0.8 0.6\n",
      " 0.6 0.8 0.7 0.7 0.7 0.8 0.7 0.6 0.8 0.6 0.8 0.8 0.8 0.8 0.8 0.7 0.8 0.7\n",
      " 0.6 0.6 0.8 0.6 0.7 0.7 0.7 0.6 0.8 0.7]\n"
     ]
    }
   ],
   "source": [
    "# Ambil data dari dataset\n",
    "dataD = df['Discount'].values\n",
    "\n",
    "# Hitung kuartil\n",
    "Q1 = np.percentile(dataD, 25)\n",
    "Q3 = np.percentile(dataD, 75)\n",
    "\n",
    "# Hitung IQR\n",
    "IQR = Q3 - Q1\n",
    "\n",
    "# Hitung batas bawah dan batas atas untuk outlier\n",
    "lower_bound = Q1 - 1.5 * IQR\n",
    "upper_bound = Q3 + 1.5 * IQR\n",
    "\n",
    "# Temukan outlier\n",
    "outliers = (dataD < lower_bound) | (dataD > upper_bound)\n",
    "\n",
    "# Cetak hasil\n",
    "print(\"---Discount---\")\n",
    "print(\"Data:\", dataD)\n",
    "print(\"Q1:\", Q1)\n",
    "print(\"Q3:\", Q3)\n",
    "print(\"IQR:\", IQR)\n",
    "print(\"Lower Bound:\", lower_bound)\n",
    "print(\"Upper Bound:\", upper_bound)\n",
    "print(\"Outliers:\", dataD[outliers])"
   ]
  },
  {
   "cell_type": "code",
   "execution_count": 36,
   "id": "d7c96e66",
   "metadata": {},
   "outputs": [
    {
     "name": "stdout",
     "output_type": "stream",
     "text": [
      "---Profit---\n",
      "Data: [ 41.9136 219.582    6.8714 ...  19.3932  13.32    72.948 ]\n",
      "Q1: 1.72875\n",
      "Q3: 29.364\n",
      "IQR: 27.63525\n",
      "Lower Bound: -39.724125\n",
      "Upper Bound: 70.816875\n",
      "Outliers: [ 219.582  -383.031    90.7152 ...  331.191   153.1152   72.948 ]\n"
     ]
    }
   ],
   "source": [
    "# Ambil data dari dataset\n",
    "dataP = df['Profit'].values\n",
    "\n",
    "# Hitung kuartil\n",
    "Q1 = np.percentile(dataP, 25)\n",
    "Q3 = np.percentile(dataP, 75)\n",
    "\n",
    "# Hitung IQR\n",
    "IQR = Q3 - Q1\n",
    "\n",
    "# Hitung batas bawah dan batas atas untuk outlier\n",
    "lower_bound = Q1 - 1.5 * IQR\n",
    "upper_bound = Q3 + 1.5 * IQR\n",
    "\n",
    "# Temukan outlier\n",
    "outliers = (dataP < lower_bound) | (dataP > upper_bound)\n",
    "\n",
    "# Cetak hasil\n",
    "print(\"---Profit---\")\n",
    "print(\"Data:\", dataP)\n",
    "print(\"Q1:\", Q1)\n",
    "print(\"Q3:\", Q3)\n",
    "print(\"IQR:\", IQR)\n",
    "print(\"Lower Bound:\", lower_bound)\n",
    "print(\"Upper Bound:\", upper_bound)\n",
    "print(\"Outliers:\", dataP[outliers])"
   ]
  },
  {
   "cell_type": "markdown",
   "id": "f888c16a",
   "metadata": {},
   "source": [
    "# PCA (Principal Component Analysis)"
   ]
  },
  {
   "cell_type": "code",
   "execution_count": 64,
   "id": "8fecc1e1",
   "metadata": {},
   "outputs": [
    {
     "name": "stdout",
     "output_type": "stream",
     "text": [
      "      Row ID        Order ID  Order Date   Ship Date       Ship Mode  \\\n",
      "0          1  CA-2016-152156   11/8/2016  11/11/2016    Second Class   \n",
      "1          2  CA-2016-152156   11/8/2016  11/11/2016    Second Class   \n",
      "2          3  CA-2016-138688   6/12/2016   6/16/2016    Second Class   \n",
      "3          4  US-2015-108966  10/11/2015  10/18/2015  Standard Class   \n",
      "4          5  US-2015-108966  10/11/2015  10/18/2015  Standard Class   \n",
      "...      ...             ...         ...         ...             ...   \n",
      "9989    9990  CA-2014-110422   1/21/2014   1/23/2014    Second Class   \n",
      "9990    9991  CA-2017-121258   2/26/2017    3/3/2017  Standard Class   \n",
      "9991    9992  CA-2017-121258   2/26/2017    3/3/2017  Standard Class   \n",
      "9992    9993  CA-2017-121258   2/26/2017    3/3/2017  Standard Class   \n",
      "9993    9994  CA-2017-119914    5/4/2017    5/9/2017    Second Class   \n",
      "\n",
      "     Customer ID     Customer Name    Segment        Country             City  \\\n",
      "0       CG-12520       Claire Gute   Consumer  United States        Henderson   \n",
      "1       CG-12520       Claire Gute   Consumer  United States        Henderson   \n",
      "2       DV-13045   Darrin Van Huff  Corporate  United States      Los Angeles   \n",
      "3       SO-20335    Sean O'Donnell   Consumer  United States  Fort Lauderdale   \n",
      "4       SO-20335    Sean O'Donnell   Consumer  United States  Fort Lauderdale   \n",
      "...          ...               ...        ...            ...              ...   \n",
      "9989    TB-21400  Tom Boeckenhauer   Consumer  United States            Miami   \n",
      "9990    DB-13060       Dave Brooks   Consumer  United States       Costa Mesa   \n",
      "9991    DB-13060       Dave Brooks   Consumer  United States       Costa Mesa   \n",
      "9992    DB-13060       Dave Brooks   Consumer  United States       Costa Mesa   \n",
      "9993    CC-12220      Chris Cortes   Consumer  United States      Westminster   \n",
      "\n",
      "      ...       Product ID         Category Sub-Category  \\\n",
      "0     ...  FUR-BO-10001798        Furniture    Bookcases   \n",
      "1     ...  FUR-CH-10000454        Furniture       Chairs   \n",
      "2     ...  OFF-LA-10000240  Office Supplies       Labels   \n",
      "3     ...  FUR-TA-10000577        Furniture       Tables   \n",
      "4     ...  OFF-ST-10000760  Office Supplies      Storage   \n",
      "...   ...              ...              ...          ...   \n",
      "9989  ...  FUR-FU-10001889        Furniture  Furnishings   \n",
      "9990  ...  FUR-FU-10000747        Furniture  Furnishings   \n",
      "9991  ...  TEC-PH-10003645       Technology       Phones   \n",
      "9992  ...  OFF-PA-10004041  Office Supplies        Paper   \n",
      "9993  ...  OFF-AP-10002684  Office Supplies   Appliances   \n",
      "\n",
      "                                           Product Name     Sales Quantity  \\\n",
      "0                     Bush Somerset Collection Bookcase  261.9600        2   \n",
      "1     Hon Deluxe Fabric Upholstered Stacking Chairs,...  731.9400        3   \n",
      "2     Self-Adhesive Address Labels for Typewriters b...   14.6200        2   \n",
      "3         Bretford CR4500 Series Slim Rectangular Table  957.5775        5   \n",
      "4                        Eldon Fold 'N Roll Cart System   22.3680        2   \n",
      "...                                                 ...       ...      ...   \n",
      "9989                             Ultra Door Pull Handle   25.2480        3   \n",
      "9990  Tenex B1-RE Series Chair Mats for Low Pile Car...   91.9600        2   \n",
      "9991                              Aastra 57i VoIP phone  258.5760        2   \n",
      "9992  It's Hot Message Books with Stickers, 2 3/4\" x 5\"   29.6000        4   \n",
      "9993  Acco 7-Outlet Masterpiece Power Center, Wihtou...  243.1600        2   \n",
      "\n",
      "     Discount    Profit  Principal Component 1  Principal Component 2  \n",
      "0        0.00   41.9136               0.042663              -1.050901  \n",
      "1        0.00  219.5820               1.154728              -0.751165  \n",
      "2        0.00    6.8714              -0.310741              -1.108203  \n",
      "3        0.45 -383.0310              -0.628428               1.963820  \n",
      "4        0.20    2.5164              -0.576867              -0.405711  \n",
      "...       ...       ...                    ...                    ...  \n",
      "9989     0.20    4.1028              -0.439731              -0.122511  \n",
      "9990     0.00   15.6332              -0.206379              -1.088454  \n",
      "9991     0.20   19.3932              -0.285785              -0.337151  \n",
      "9992     0.00   13.3200              -0.017783              -0.541310  \n",
      "9993     0.00   72.9480               0.110092              -1.083366  \n",
      "\n",
      "[9994 rows x 23 columns]\n"
     ]
    }
   ],
   "source": [
    "data = pd.read_csv('Sample - Superstore copy.csv')\n",
    "\n",
    "# Pilih kolom-kolom yang akan digunakan untuk PCA (ganti dengan kolom sesuai dataset Anda)\n",
    "selected_columns = ['Sales', 'Quantity', 'Discount', 'Profit']\n",
    "data_subset = data[selected_columns]\n",
    "\n",
    "# Normalisasi data\n",
    "scaler = StandardScaler()\n",
    "scaled_data = scaler.fit_transform(data_subset)\n",
    "\n",
    "# Inisialisasi objek PCA\n",
    "pca = PCA(n_components=2)\n",
    "\n",
    "# Fitting dan transformasi data\n",
    "principal_components = pca.fit_transform(scaled_data)\n",
    "\n",
    "# Hasil PCA sebagai DataFrame baru\n",
    "principal_df = pd.DataFrame(data=principal_components, columns=['Principal Component 1', 'Principal Component 2'])\n",
    "\n",
    "# Gabungkan DataFrame hasil PCA dengan DataFrame asli\n",
    "result_df = pd.concat([data, principal_df], axis=1)\n",
    "\n",
    "# Tampilkan hasil\n",
    "print(result_df)"
   ]
  },
  {
   "cell_type": "code",
   "execution_count": 62,
   "id": "c20382e0",
   "metadata": {},
   "outputs": [
    {
     "name": "stdout",
     "output_type": "stream",
     "text": [
      "Rasio Varians:\n",
      " [0.39749164 0.26467547]\n"
     ]
    }
   ],
   "source": [
    "print(\"Rasio Varians:\\n\", pca.explained_variance_ratio_)"
   ]
  },
  {
   "cell_type": "code",
   "execution_count": 57,
   "id": "c7d9a87c",
   "metadata": {},
   "outputs": [
    {
     "data": {
      "image/png": "[encoded data removed]",
      "text/plain": [
       "<Figure size 640x480 with 1 Axes>"
      ]
     },
     "metadata": {},
     "output_type": "display_data"
    }
   ],
   "source": [
    "# Visualisasi data hasil PCA\n",
    "plt.scatter(result_df['Principal Component 1'], result_df['Principal Component 2'])\n",
    "plt.title('PCA Result')\n",
    "plt.xlabel('Principal Component 1')\n",
    "plt.ylabel('Principal Component 2')\n",
    "plt.show()"
   ]
  },
  {
   "cell_type": "code",
   "execution_count": 60,
   "id": "a1e74f2c",
   "metadata": {},
   "outputs": [
    {
     "name": "stdout",
     "output_type": "stream",
     "text": [
      "Explained Variance:\n",
      " [0.39749164 0.26467547]\n"
     ]
    }
   ],
   "source": []
  }
 ],
 "metadata": {
  "kernelspec": {
   "display_name": "Python 3",
   "language": "python",
   "name": "python3"
  },
  "language_info": {
   "codemirror_mode": {
    "name": "ipython",
    "version": 3
   },
   "file_extension": ".py",
   "mimetype": "text/x-python",
   "name": "python",
   "nbconvert_exporter": "python",
   "pygments_lexer": "ipython3",
   "version": "3.11.7"
  }
 },
 "nbformat": 4,
 "nbformat_minor": 5
}
